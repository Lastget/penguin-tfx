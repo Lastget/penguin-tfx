{
 "cells": [
  {
   "cell_type": "markdown",
   "metadata": {},
   "source": [
    "## Define environment variables"
   ]
  },
  {
   "cell_type": "code",
   "execution_count": null,
   "metadata": {},
   "outputs": [],
   "source": [
    "# Set `PATH` to include user python binary directory and a directory containing `skaffold`.\n",
    "PATH=%env PATH\n",
    "%env PATH={PATH}:/home/jupyter/.local/bin"
   ]
  },
  {
   "cell_type": "code",
   "execution_count": null,
   "metadata": {},
   "outputs": [],
   "source": [
    "# Read GCP project id from env.\n",
    "shell_output=!gcloud config list --format 'value(core.project)' 2>/dev/null\n",
    "GOOGLE_CLOUD_PROJECT=shell_output[0]\n",
    "%env GOOGLE_CLOUD_PROJECT={GOOGLE_CLOUD_PROJECT}\n",
    "print(\"GCP project ID:\" + GOOGLE_CLOUD_PROJECT)"
   ]
  },
  {
   "cell_type": "markdown",
   "metadata": {},
   "source": [
    "## Create Bigquery Dataset"
   ]
  },
  {
   "cell_type": "code",
   "execution_count": null,
   "metadata": {},
   "outputs": [],
   "source": [
    "BQ_DATASET_NAME = 'data_validation'\n",
    "BQ_TABLE_NAME = 'sentiment_analysis_logs' \n",
    "\n",
    "from google.cloud import bigquery\n",
    "client = bigquery.Client(GOOGLE_CLOUD_PROJECT)\n",
    "dataset_names = [dataset.dataset_id for dataset in client.list_datasets(GOOGLE_CLOUD_PROJECT)]\n",
    "\n",
    "dataset = bigquery.Dataset(\"{}.{}\".format(GOOGLE_CLOUD_PROJECT, BQ_DATASET_NAME))\n",
    "dataset.location = \"US\"\n",
    "\n",
    "if BQ_DATASET_NAME not in dataset_names:\n",
    "    dataset = client.create_dataset(dataset)\n",
    "    print(\"Created dataset {}.{}\".format(client.project, dataset.dataset_id))\n",
    "\n",
    "print(\"BigQuery dataset is ready.\")"
   ]
  },
  {
   "cell_type": "markdown",
   "metadata": {},
   "source": [
    "## Create BQ Table"
   ]
  },
  {
   "cell_type": "code",
   "execution_count": null,
   "metadata": {},
   "outputs": [],
   "source": [
    "import json\n",
    "\n",
    "table_schema_json = [\n",
    " {\"name\":\"model\", \"type\": \"STRING\", \"mode\": \"REQUIRED\"},\n",
    " {\"name\":\"model_version\", \"type\": \"STRING\", \"mode\":\"REQUIRED\"},\n",
    " {\"name\":\"time\", \"type\": \"TIMESTAMP\", \"mode\": \"REQUIRED\"},\n",
    " {\"name\":\"raw_data\", \"type\": \"STRING\", \"mode\": \"REQUIRED\"},\n",
    " {\"name\":\"raw_prediction\", \"type\": \"STRING\", \"mode\": \"NULLABLE\"},\n",
    " {\"name\":\"groundtruth\", \"type\": \"STRING\", \"mode\": \"NULLABLE\"}]\n",
    "\n",
    "json.dump(table_schema_json, open('table_schema.json', 'w'))"
   ]
  },
  {
   "cell_type": "code",
   "execution_count": null,
   "metadata": {},
   "outputs": [],
   "source": [
    "!bq mk --table \\\n",
    " --project_id={GOOGLE_CLOUD_PROJECT} \\\n",
    " {GOOGLE_CLOUD_PROJECT}:{BQ_DATASET_NAME}.{BQ_TABLE_NAME} \\\n",
    " 'table_schema.json'"
   ]
  },
  {
   "cell_type": "markdown",
   "metadata": {},
   "source": [
    "## Activate logging"
   ]
  },
  {
   "cell_type": "code",
   "execution_count": null,
   "metadata": {},
   "outputs": [],
   "source": [
    "import googleapiclient.discovery\n",
    "import re\n",
    "\n",
    "PIPELINE_NAME = 'TFX_CICD_sentiment_analysis'\n",
    "LOCATION = 'us-central1'\n",
    "pattern = re.compile(f'(?<=versions/).+')\n",
    "#  a Python client library for interacting with Google APIs.\n",
    "# 'ml' for Google Cloud Machine Learning Engine.\n",
    "# The service object can then be used to make requests to ML Engine, such as listing model versions or deploying a model.\n",
    "service = googleapiclient.discovery.build(api_name='ml', api_version='v1')\n",
    "\n",
    "parent = f\"projects/{GOOGLE_CLOUD_PROJECT}/models/{PIPELINE_NAME}\"\n",
    "versions_list = service.projects().models().versions().list(parent=parent).execute()\n",
    "\n",
    "# Get Model Version Name \n",
    "try:\n",
    "    name = [i['name'] for i in versions_list['versions'] if i.get('isDefault')][0]\n",
    "    VERSION_NAME = pattern.search(name).group()\n",
    "    print(name)\n",
    "except:\n",
    "    print('The request did not return a default version')"
   ]
  },
  {
   "cell_type": "code",
   "execution_count": null,
   "metadata": {},
   "outputs": [],
   "source": [
    "# Enable logging\n",
    "sampling_percentage = 1.0\n",
    "bq_full_table_name = '{}.{}.{}'.format(GOOGLE_CLOUD_PROJECT, BQ_DATASET_NAME, BQ_TABLE_NAME)\n",
    "\n",
    "service = googleapiclient.discovery.build('ml', 'v1')\n",
    "\n",
    "logging_config = {\n",
    "   \"requestLoggingConfig\":{\n",
    "       \"samplingPercentage\": sampling_percentage,\n",
    "       \"bigqueryTableName\": bq_full_table_name\n",
    "       }\n",
    "   }\n",
    "\n",
    "service.projects().models().versions().patch(\n",
    "   name=name,\n",
    "   body=logging_config,\n",
    "   updateMask=\"requestLoggingConfig\"\n",
    "   ).execute()"
   ]
  }
 ],
 "metadata": {
  "language_info": {
   "name": "python"
  }
 },
 "nbformat": 4,
 "nbformat_minor": 2
}
